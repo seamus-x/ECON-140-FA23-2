{
 "cells": [
  {
   "attachments": {},
   "cell_type": "markdown",
   "metadata": {},
   "source": [
    "In this cell, please type your name and SID"
   ]
  },
  {
   "attachments": {},
   "cell_type": "markdown",
   "metadata": {},
   "source": [
    "# ECON 140 - Problem Set 2\n",
    "\n",
    "## INSTRUCTIONS\n",
    "\n",
    "* Please step through this tutorial, copy and paste the code, and run it to produce output.\n",
    "* Make sure to write some sentences at the end in response to the non-coding questions.\n",
    "* When done, go to \"File: Download As: PDF via LaTeX\" or something similar like \"File: Save and Export Notebook As: PDF.\" Upload the saved PDF file to Gradescope.\n",
    "\n",
    "You will earn 100% of the credit on this problem set for <b>completing</b> it by due date provided that you perform the tasks as requested and the codes return no error. Late submissions are accepted until 10/22/2023 and receives only half points."
   ]
  },
  {
   "attachments": {},
   "cell_type": "markdown",
   "metadata": {},
   "source": [
    "## Functions in `R`\n",
    "\n",
    "We have encountered quite a few functions in `R` that are useful in a wide range of different situations, eg. `for()`, `runif()`, and `lm()`. We have discussed during lecture that, with some exceptions (notably many arithmetic functions), functions in `R` typically takes on the form of a function name followed immediately by a set of parenthesis in which arguments are entered, *e.g.* `runif(100, -10, 10)` returns a vector 100 random numbers generated from a uniform distribution with support [-10, 10].\n",
    "\n",
    "To access a function from an installed package without loading the package into your R environment, you can call the funciton directly by using the `package_name::function_name()` construction. For example, in order to use the `read_dta()` function from the `haven` package, as you did from the previous problem set, you can simply type `haven::read_dta()` instead of first loading `haven` into the environment by executing `library(haven)`. This can be very useful when you only need a couple functions from a certain package, especially if loading such a package would mask other functions, meaning that the package contains functions with the same names as functions from base `R` or another package.\n",
    "\n",
    "In addition, you can make your own custom functions by using the `function()` function. Custom functions are one of the most important, useful, and powerful tools of most programming languages, as it allows repeating complex operations with different inputs by shorthanding the operation into just one command. The basic syntax of making a custom function in `R` is as follows:\n",
    "\n",
    "```R\n",
    "myfun <- function(arg1, arg2 = 0, ...){\n",
    "    result <- ...\n",
    "    return(result)\n",
    "}\n",
    "```\n",
    "where `myfun` is the name of the custom function, `arg1`, *etc.*, are the arguments that go into the function with any assigned value being the default (*e.g.* 0 being the default for `arg2`), and `result` being the value that is returned by the custom function. Consider the following example custom function that takes 3 arguments, `x`, `y`, and `z` with the default value of 1, and returns $(x+y)^z$:\n",
    "```R\n",
    "myfun <- function(x, y, z = 1){\n",
    "    result <- (x + y)^z\n",
    "    return(result)\n",
    "}\n",
    "myfun(1, 2) # (1 + 2)^1\n",
    "myfun(1, 2, 3) # (1 + 2)^3\n",
    "```\n",
    "Copy and paste the code above into the code block below and run it"
   ]
  },
  {
   "cell_type": "code",
   "execution_count": null,
   "metadata": {
    "vscode": {
     "languageId": "r"
    }
   },
   "outputs": [],
   "source": []
  },
  {
   "cell_type": "markdown",
   "metadata": {},
   "source": [
    "Try the above code in the code block below and you should see exactly the same result.\n",
    "\n",
    "For simple functions like this that require just one step, we can simply rewrite it as follows without storing the result in the `result` variable and calling it at the end. The key here is that the last line of the function (in this case, the only line) outputs the result that we are interested in.\n",
    "```R\n",
    "myfun <- function(x, y, z = 1) (x + y)^z\n",
    "myfun(1, 2) \n",
    "myfun(1, 2, 3)\n",
    "```"
   ]
  },
  {
   "cell_type": "code",
   "execution_count": null,
   "metadata": {
    "vscode": {
     "languageId": "r"
    }
   },
   "outputs": [],
   "source": []
  },
  {
   "cell_type": "markdown",
   "metadata": {},
   "source": [
    "Now, complete the following code block to produce a function with the name my1stfun that takes 3 numerical arguments and returns of the sum of the squared values of each argument, *i.e.* $x^2+y^2+z^2$, then test your function with the numbers 1, -1, and 2."
   ]
  },
  {
   "cell_type": "code",
   "execution_count": 1,
   "metadata": {
    "vscode": {
     "languageId": "r"
    }
   },
   "outputs": [
    {
     "ename": "ERROR",
     "evalue": "Error in my1stfun(): object 'result' not found\n",
     "output_type": "error",
     "traceback": [
      "Error in my1stfun(): object 'result' not found\nTraceback:\n",
      "1. my1stfun()"
     ]
    }
   ],
   "source": [
    "my1stfun <- function(          ){\n",
    "    result <-\n",
    "    return(result)\n",
    "}\n",
    "my1stfun(            )"
   ]
  },
  {
   "cell_type": "markdown",
   "metadata": {},
   "source": [
    "Note that variables defined within a function, such as `result` in our example, cannot be accessed from outside of a function, so your environment will not be left with a variable named `result` after you define or use the function. However, the function can access variables from your environment, although if you make changes to it inside the function, it will not change that variable outside the function. Run the following code for an example"
   ]
  },
  {
   "cell_type": "code",
   "execution_count": 3,
   "metadata": {
    "vscode": {
     "languageId": "r"
    }
   },
   "outputs": [
    {
     "data": {
      "text/html": [
       "11"
      ],
      "text/latex": [
       "11"
      ],
      "text/markdown": [
       "11"
      ],
      "text/plain": [
       "[1] 11"
      ]
     },
     "metadata": {},
     "output_type": "display_data"
    },
    {
     "data": {
      "text/html": [
       "10"
      ],
      "text/latex": [
       "10"
      ],
      "text/markdown": [
       "10"
      ],
      "text/plain": [
       "[1] 10"
      ]
     },
     "metadata": {},
     "output_type": "display_data"
    }
   ],
   "source": [
    "myvar <- 10\n",
    "my2ndfun <- function(){\n",
    "    myvar <- myvar + 1\n",
    "    return(myvar)\n",
    "}\n",
    "my2ndfun() # this should return 11\n",
    "myvar # this should still return 10 even though myvar changed to 11 inside the function"
   ]
  },
  {
   "cell_type": "markdown",
   "metadata": {},
   "source": [
    "As you can see, this can easily lead to confusion if you can't keep track of your variable names. The best practice, therefore, would be to use unique variable names and, if your function requires a value from the outside environment, code it as an explicit argument of the function, such as follows (run to verify)"
   ]
  },
  {
   "cell_type": "code",
   "execution_count": 4,
   "metadata": {
    "vscode": {
     "languageId": "r"
    }
   },
   "outputs": [
    {
     "data": {
      "text/html": [
       "11"
      ],
      "text/latex": [
       "11"
      ],
      "text/markdown": [
       "11"
      ],
      "text/plain": [
       "[1] 11"
      ]
     },
     "metadata": {},
     "output_type": "display_data"
    }
   ],
   "source": [
    "myvar <- 10\n",
    "my2ndfun <- function(x){\n",
    "    result <- x + 1\n",
    "    return(result)\n",
    "}\n",
    "my2ndfun(myvar)"
   ]
  },
  {
   "cell_type": "markdown",
   "metadata": {},
   "source": [
    "\n",
    "## Control Flow in `R`\n",
    "\n",
    "Control flow refers to the orders and conditions by which a computer program executes its commands and subroutines. In `R`, control flow can be achieved via *loops* and *conditionals*, among other methods. In this exercise, we will discuss the `for()` loop, the `while()` loop, and the `if()` conditional in `R`.\n",
    "\n",
    "### `for` loop\n",
    "\n",
    "In computer languages, there are usually two types of `for` loop: repeating an action a certain number of times, or repeating an action for each item from a list (also known as a `foreach` loop). In `R`, both types can be accomplished using the `for()` function, of which we have seen a couple of examples in class. The general construction of a `for()` loop in `R` is as follows:\n",
    "```R\n",
    "for(each_value in list_of_values){\n",
    "    do(each_value)\n",
    "}\n",
    "```\n",
    "Copy and paste the following code into the next code block and run it for an example that prints the same message 10 times:\n",
    "```R\n",
    "for(iter in 1:10){\n",
    "    print(\"This is the output of an iteration of a for loop.\")\n",
    "}\n",
    "```"
   ]
  },
  {
   "cell_type": "code",
   "execution_count": null,
   "metadata": {
    "vscode": {
     "languageId": "r"
    }
   },
   "outputs": [],
   "source": []
  },
  {
   "cell_type": "markdown",
   "metadata": {},
   "source": [
    "Copy and paste the following code into the next code block and run it for an example that prints the same message 10 times, but each time with a reference to which iteration it's on:\n",
    "```R\n",
    "for(iter in 1:10){\n",
    "    mymessage <- paste(\"This is the output of iteration\", iter, \"of a for loop.\") #type help(paste) to see more about the paste() function\n",
    "    print(mymessage)\n",
    "}\n",
    "```"
   ]
  },
  {
   "cell_type": "code",
   "execution_count": null,
   "metadata": {
    "vscode": {
     "languageId": "r"
    }
   },
   "outputs": [],
   "source": []
  },
  {
   "cell_type": "markdown",
   "metadata": {},
   "source": [
    "Copy and paste the following code into the next code block and run it for an example that prints each value from a list of strings. This would be how a `foreach` loop is implemented in `R`.\n",
    "```R\n",
    "some_names <- c(\"Madison\", \"Sydney\", \"Dana\")\n",
    "for(a_name in some_names){\n",
    "    print(a_name)\n",
    "}\n",
    "```"
   ]
  },
  {
   "cell_type": "code",
   "execution_count": null,
   "metadata": {
    "vscode": {
     "languageId": "r"
    }
   },
   "outputs": [],
   "source": []
  },
  {
   "cell_type": "markdown",
   "metadata": {},
   "source": [
    "Copy and paste the following code into the next code block and run it for an example that prints each value from a list of strings, but coded differently utilizing indexing syntax\n",
    "```R\n",
    "some_names <- c(\"Madison\", \"Sydney\", \"Dana\")\n",
    "for(index in 1:length(some_names)){\n",
    "    print(some_names[index])\n",
    "}\n",
    "```"
   ]
  },
  {
   "cell_type": "markdown",
   "metadata": {},
   "source": [
    "### `while` loop\n",
    "\n",
    "The `while` loop repeats an action until specified conditions are no longer satisfied. The following example starts with `n = 1` and adds 1 to `n` repeatedly, prints the value of `n`, until `n` is no longer less than 10:\n",
    "```R\n",
    "n <- 1\n",
    "while(n < 10){\n",
    "    cat('n is now equal to ', n, '\\n') #type help(cat) to see more about the cat() function\n",
    "    n <- n + 1\n",
    "}\n",
    "```\n",
    "Copy and paste the code into the code block below and run it to see the results:"
   ]
  },
  {
   "cell_type": "code",
   "execution_count": null,
   "metadata": {
    "vscode": {
     "languageId": "r"
    }
   },
   "outputs": [],
   "source": []
  },
  {
   "cell_type": "markdown",
   "metadata": {},
   "source": [
    "### `if`, ``"
   ]
  }
 ],
 "metadata": {
  "kernelspec": {
   "display_name": "R",
   "language": "R",
   "name": "ir"
  },
  "language_info": {
   "codemirror_mode": "r",
   "file_extension": ".r",
   "mimetype": "text/x-r-source",
   "name": "R",
   "pygments_lexer": "r",
   "version": "4.0.4"
  }
 },
 "nbformat": 4,
 "nbformat_minor": 2
}
